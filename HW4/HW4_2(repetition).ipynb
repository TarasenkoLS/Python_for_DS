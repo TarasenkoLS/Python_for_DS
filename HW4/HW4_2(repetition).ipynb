{
 "cells": [
  {
   "cell_type": "markdown",
   "id": "5c2beac9",
   "metadata": {},
   "source": [
    "#### **Задание на повторение материала\n",
    "Создать одномерный массив Numpy под названием a из 12 последовательных целых чисел чисел от 12 до 24 невключительно"
   ]
  },
  {
   "cell_type": "code",
   "execution_count": 1,
   "id": "70043f2c",
   "metadata": {},
   "outputs": [],
   "source": [
    "import numpy as np\n",
    "import pandas as pd"
   ]
  },
  {
   "cell_type": "code",
   "execution_count": 2,
   "id": "ca8c3e68",
   "metadata": {},
   "outputs": [
    {
     "name": "stdout",
     "output_type": "stream",
     "text": [
      "[12 13 14 15 16 17 18 19 20 21 22 23]\n"
     ]
    }
   ],
   "source": [
    "a = np.arange(12, 24)\n",
    "\n",
    "print(a)"
   ]
  },
  {
   "cell_type": "markdown",
   "id": "fe30f29a",
   "metadata": {},
   "source": [
    "Создать 5 двумерных массивов разной формы из массива a. Не использовать в аргументах метода reshape число -1."
   ]
  },
  {
   "cell_type": "code",
   "execution_count": 3,
   "id": "ef9a71b1",
   "metadata": {},
   "outputs": [
    {
     "name": "stdout",
     "output_type": "stream",
     "text": [
      "[[12]\n",
      " [13]\n",
      " [14]\n",
      " [15]\n",
      " [16]\n",
      " [17]\n",
      " [18]\n",
      " [19]\n",
      " [20]\n",
      " [21]\n",
      " [22]\n",
      " [23]]\n"
     ]
    }
   ],
   "source": [
    "a1 = a.reshape(12, 1)\n",
    "print(a1)"
   ]
  },
  {
   "cell_type": "code",
   "execution_count": 4,
   "id": "4a50b0a4",
   "metadata": {},
   "outputs": [
    {
     "name": "stdout",
     "output_type": "stream",
     "text": [
      "[[12 13]\n",
      " [14 15]\n",
      " [16 17]\n",
      " [18 19]\n",
      " [20 21]\n",
      " [22 23]]\n"
     ]
    }
   ],
   "source": [
    "a2 = a.reshape(6, 2)\n",
    "print(a2)"
   ]
  },
  {
   "cell_type": "code",
   "execution_count": 5,
   "id": "6e9e8071",
   "metadata": {},
   "outputs": [
    {
     "name": "stdout",
     "output_type": "stream",
     "text": [
      "[[12 13 14 15]\n",
      " [16 17 18 19]\n",
      " [20 21 22 23]]\n"
     ]
    }
   ],
   "source": [
    "a3 = a.reshape(3, 4)\n",
    "print(a3)"
   ]
  },
  {
   "cell_type": "code",
   "execution_count": 6,
   "id": "f94c76da",
   "metadata": {},
   "outputs": [
    {
     "name": "stdout",
     "output_type": "stream",
     "text": [
      "[[12 13 14]\n",
      " [15 16 17]\n",
      " [18 19 20]\n",
      " [21 22 23]]\n"
     ]
    }
   ],
   "source": [
    "a4 = a.reshape(4, 3)\n",
    "print(a4)"
   ]
  },
  {
   "cell_type": "code",
   "execution_count": 7,
   "id": "ffa83b78",
   "metadata": {},
   "outputs": [
    {
     "name": "stdout",
     "output_type": "stream",
     "text": [
      "[[12 13 14 15 16 17]\n",
      " [18 19 20 21 22 23]]\n"
     ]
    }
   ],
   "source": [
    "a5 = a.reshape(2, 6)\n",
    "print(a5)"
   ]
  },
  {
   "cell_type": "markdown",
   "id": "1cdb7364",
   "metadata": {},
   "source": [
    "Создать 5 двумерных массивов разной формы из массива a. Использовать в аргументах метода reshape число -1 (в трех примерах - для обозначения числа столбцов, в двух - для строк)."
   ]
  },
  {
   "cell_type": "code",
   "execution_count": 8,
   "id": "7b3736d8",
   "metadata": {},
   "outputs": [
    {
     "name": "stdout",
     "output_type": "stream",
     "text": [
      "[[12]\n",
      " [13]\n",
      " [14]\n",
      " [15]\n",
      " [16]\n",
      " [17]\n",
      " [18]\n",
      " [19]\n",
      " [20]\n",
      " [21]\n",
      " [22]\n",
      " [23]]\n"
     ]
    }
   ],
   "source": [
    "a1 = a.reshape(12, -1)\n",
    "print(a1)"
   ]
  },
  {
   "cell_type": "code",
   "execution_count": 9,
   "id": "de28a2d3",
   "metadata": {},
   "outputs": [
    {
     "name": "stdout",
     "output_type": "stream",
     "text": [
      "[[12 13]\n",
      " [14 15]\n",
      " [16 17]\n",
      " [18 19]\n",
      " [20 21]\n",
      " [22 23]]\n"
     ]
    }
   ],
   "source": [
    "a2 = a.reshape(6, -1)\n",
    "print(a2)"
   ]
  },
  {
   "cell_type": "code",
   "execution_count": 10,
   "id": "842ca29a",
   "metadata": {},
   "outputs": [
    {
     "name": "stdout",
     "output_type": "stream",
     "text": [
      "[[12 13 14 15]\n",
      " [16 17 18 19]\n",
      " [20 21 22 23]]\n"
     ]
    }
   ],
   "source": [
    "a3 = a.reshape(3, -1)\n",
    "print(a3)"
   ]
  },
  {
   "cell_type": "code",
   "execution_count": 11,
   "id": "b4e1f675",
   "metadata": {},
   "outputs": [
    {
     "name": "stdout",
     "output_type": "stream",
     "text": [
      "[[12 13 14]\n",
      " [15 16 17]\n",
      " [18 19 20]\n",
      " [21 22 23]]\n"
     ]
    }
   ],
   "source": [
    "a4 = a.reshape(-1, 3)\n",
    "print(a4)"
   ]
  },
  {
   "cell_type": "code",
   "execution_count": 12,
   "id": "2e74b2d9",
   "metadata": {},
   "outputs": [
    {
     "name": "stdout",
     "output_type": "stream",
     "text": [
      "[[12]\n",
      " [13]\n",
      " [14]\n",
      " [15]\n",
      " [16]\n",
      " [17]\n",
      " [18]\n",
      " [19]\n",
      " [20]\n",
      " [21]\n",
      " [22]\n",
      " [23]]\n"
     ]
    }
   ],
   "source": [
    "a5 = a.reshape(-1, 1)\n",
    "print(a5)"
   ]
  },
  {
   "cell_type": "markdown",
   "id": "dd3a664f",
   "metadata": {},
   "source": [
    "Можно ли массив Numpy, состоящий из одного столбца и 12 строк, назвать одномерным? Нет."
   ]
  },
  {
   "cell_type": "markdown",
   "id": "2fe34034",
   "metadata": {},
   "source": [
    "Создать массив из 3 строк и 4 столбцов, состоящий из случайных чисел с плавающей запятой из нормального распределения со средним, равным 0 и среднеквадратичным отклонением, равным 1.0. Получить из этого массива одномерный массив с таким же атрибутом size, как и исходный массив."
   ]
  },
  {
   "cell_type": "code",
   "execution_count": 13,
   "id": "267fcadf",
   "metadata": {},
   "outputs": [
    {
     "name": "stdout",
     "output_type": "stream",
     "text": [
      "[[ 0.39740138 -0.56736049  1.04616753 -0.35979265]\n",
      " [ 0.67670486 -0.25727918  1.00212945 -1.05520557]\n",
      " [-0.72621734  1.2429235  -2.0013575   0.32497887]]\n"
     ]
    }
   ],
   "source": [
    "a = np.random.randn(3, 4)\n",
    "print(a)"
   ]
  },
  {
   "cell_type": "code",
   "execution_count": 14,
   "id": "80104b83",
   "metadata": {},
   "outputs": [
    {
     "name": "stdout",
     "output_type": "stream",
     "text": [
      "[ 0.39740138 -0.56736049  1.04616753 -0.35979265  0.67670486 -0.25727918\n",
      "  1.00212945 -1.05520557 -0.72621734  1.2429235  -2.0013575   0.32497887]\n"
     ]
    }
   ],
   "source": [
    "a1 = a.flatten()\n",
    "print(a1)"
   ]
  },
  {
   "cell_type": "code",
   "execution_count": 15,
   "id": "4027c8a3",
   "metadata": {},
   "outputs": [
    {
     "data": {
      "text/plain": [
       "True"
      ]
     },
     "execution_count": 15,
     "metadata": {},
     "output_type": "execute_result"
    }
   ],
   "source": [
    "a1.size == a.size"
   ]
  },
  {
   "cell_type": "markdown",
   "id": "8a94e116",
   "metadata": {},
   "source": [
    "Создать массив a, состоящий из целых чисел, убывающих от 20 до 0 невключительно с интервалом 2."
   ]
  },
  {
   "cell_type": "code",
   "execution_count": 16,
   "id": "95f5dfe1",
   "metadata": {},
   "outputs": [
    {
     "name": "stdout",
     "output_type": "stream",
     "text": [
      "[20 18 16 14 12 10  8  6  4  2]\n"
     ]
    }
   ],
   "source": [
    "a = np.arange(20, 0, -2)\n",
    "print(a)"
   ]
  },
  {
   "cell_type": "markdown",
   "id": "b1eb9fa7",
   "metadata": {},
   "source": [
    "Создать массив b, состоящий из 1 строки и 10 столбцов: целых чисел, убывающих от 20 до 1 невключительно с интервалом 2. В чем разница между массивами a и b?"
   ]
  },
  {
   "cell_type": "code",
   "execution_count": 17,
   "id": "257d2e13",
   "metadata": {},
   "outputs": [
    {
     "name": "stdout",
     "output_type": "stream",
     "text": [
      "[20 18 16 14 12 10  8  6  4  2]\n"
     ]
    }
   ],
   "source": [
    "b = np.arange(20, 1, -2)\n",
    "print(b)"
   ]
  },
  {
   "cell_type": "code",
   "execution_count": 18,
   "id": "d8f383fc",
   "metadata": {},
   "outputs": [
    {
     "data": {
      "text/plain": [
       "array([ True,  True,  True,  True,  True,  True,  True,  True,  True,\n",
       "        True])"
      ]
     },
     "execution_count": 18,
     "metadata": {},
     "output_type": "execute_result"
    }
   ],
   "source": [
    "a == b"
   ]
  },
  {
   "cell_type": "markdown",
   "id": "774792f5",
   "metadata": {},
   "source": [
    "Массивы не имеют разницы"
   ]
  },
  {
   "cell_type": "markdown",
   "id": "1da0b572",
   "metadata": {},
   "source": [
    "Вертикально соединить массивы a и b. a - двумерный массив из нулей, число строк которого больше 1 и на 1 меньше, чем число строк двумерного массива b, состоящего из единиц. Итоговый массив v должен иметь атрибут size, равный 10."
   ]
  },
  {
   "cell_type": "code",
   "execution_count": 19,
   "id": "3d27de85",
   "metadata": {},
   "outputs": [
    {
     "name": "stdout",
     "output_type": "stream",
     "text": [
      "[[0. 0.]\n",
      " [0. 0.]]\n"
     ]
    }
   ],
   "source": [
    "x = 3 # число строк массива b\n",
    "a = np.zeros(((x - 1), 2))\n",
    "print(a)"
   ]
  },
  {
   "cell_type": "code",
   "execution_count": 20,
   "id": "0ce80662",
   "metadata": {},
   "outputs": [
    {
     "name": "stdout",
     "output_type": "stream",
     "text": [
      "[[1. 1.]\n",
      " [1. 1.]\n",
      " [1. 1.]]\n"
     ]
    }
   ],
   "source": [
    "b = np.ones((x, 2))\n",
    "print(b)"
   ]
  },
  {
   "cell_type": "code",
   "execution_count": 21,
   "id": "eda722da",
   "metadata": {},
   "outputs": [
    {
     "name": "stdout",
     "output_type": "stream",
     "text": [
      "[[0. 0.]\n",
      " [0. 0.]\n",
      " [1. 1.]\n",
      " [1. 1.]\n",
      " [1. 1.]]\n"
     ]
    }
   ],
   "source": [
    "v = np.concatenate((a, b), axis = 0)\n",
    "print(v)"
   ]
  },
  {
   "cell_type": "code",
   "execution_count": 22,
   "id": "f6f34244",
   "metadata": {},
   "outputs": [
    {
     "data": {
      "text/plain": [
       "10"
      ]
     },
     "execution_count": 22,
     "metadata": {},
     "output_type": "execute_result"
    }
   ],
   "source": [
    "v.size"
   ]
  },
  {
   "cell_type": "markdown",
   "id": "6ee9e1d5",
   "metadata": {},
   "source": [
    "Создать одномерный массив а, состоящий из последовательности целых чисел от 0 до 12. Поменять форму этого массива, чтобы получилась матрица A (двумерный массив Numpy), состоящая из 4 строк и 3 столбцов. Получить матрицу At путем транспонирования матрицы A. Получить матрицу B, умножив матрицу A на матрицу At с помощью матричного умножения. Какой размер имеет матрица B? Получится ли вычислить обратную матрицу для матрицы B и почему?"
   ]
  },
  {
   "cell_type": "code",
   "execution_count": 23,
   "id": "9fc1b3af",
   "metadata": {},
   "outputs": [
    {
     "name": "stdout",
     "output_type": "stream",
     "text": [
      "[ 0  1  2  3  4  5  6  7  8  9 10 11]\n"
     ]
    }
   ],
   "source": [
    "a = np.arange(0, 12)\n",
    "print(a)"
   ]
  },
  {
   "cell_type": "code",
   "execution_count": 24,
   "id": "b63bcec8",
   "metadata": {},
   "outputs": [
    {
     "name": "stdout",
     "output_type": "stream",
     "text": [
      "[[ 0  1  2]\n",
      " [ 3  4  5]\n",
      " [ 6  7  8]\n",
      " [ 9 10 11]]\n"
     ]
    }
   ],
   "source": [
    "A = a.reshape(4, 3)\n",
    "print(A)"
   ]
  },
  {
   "cell_type": "code",
   "execution_count": 25,
   "id": "ead25447",
   "metadata": {},
   "outputs": [
    {
     "name": "stdout",
     "output_type": "stream",
     "text": [
      "[[ 0  3  6  9]\n",
      " [ 1  4  7 10]\n",
      " [ 2  5  8 11]]\n"
     ]
    }
   ],
   "source": [
    "At = A.T\n",
    "print(At)"
   ]
  },
  {
   "cell_type": "code",
   "execution_count": 26,
   "id": "1a100eab",
   "metadata": {},
   "outputs": [
    {
     "name": "stdout",
     "output_type": "stream",
     "text": [
      "[[  5  14  23  32]\n",
      " [ 14  50  86 122]\n",
      " [ 23  86 149 212]\n",
      " [ 32 122 212 302]] size (B) = 16\n"
     ]
    }
   ],
   "source": [
    "B = A.dot(At)\n",
    "print(B, \"size (B) =\", B.size)"
   ]
  },
  {
   "cell_type": "code",
   "execution_count": 27,
   "id": "a5e85486",
   "metadata": {},
   "outputs": [
    {
     "name": "stdout",
     "output_type": "stream",
     "text": [
      "0.0\n"
     ]
    }
   ],
   "source": [
    "d = np.linalg.det(B)\n",
    "print(d)"
   ]
  },
  {
   "cell_type": "markdown",
   "id": "53fc152d",
   "metadata": {},
   "source": [
    " Вычислить обратную матрицу для матрицы B не возможно, т.к. ее определитель = 0"
   ]
  },
  {
   "cell_type": "markdown",
   "id": "bbf85b86",
   "metadata": {},
   "source": [
    "Инициализируйте генератор случайных числе с помощью объекта seed, равного 42."
   ]
  },
  {
   "cell_type": "code",
   "execution_count": 28,
   "id": "849ee9e9",
   "metadata": {},
   "outputs": [],
   "source": [
    "np.random.seed(42)"
   ]
  },
  {
   "cell_type": "markdown",
   "id": "385b60ed",
   "metadata": {},
   "source": [
    "Создайте одномерный массив c, составленный из последовательности 16-ти случайных равномерно распределенных целых чисел от 0 до 16 невключительно. "
   ]
  },
  {
   "cell_type": "code",
   "execution_count": 29,
   "id": "d5c376bd",
   "metadata": {},
   "outputs": [
    {
     "name": "stdout",
     "output_type": "stream",
     "text": [
      "[ 0  1  2  3  4  5  6  7  8  9 10 11 12 13 14 15]\n"
     ]
    }
   ],
   "source": [
    "c = np.arange(0, 16)\n",
    "print(c)"
   ]
  },
  {
   "cell_type": "markdown",
   "id": "8e36a937",
   "metadata": {},
   "source": [
    "Поменяйте его форму так, чтобы получилась квадратная матрица C. Получите матрицу D, поэлементно прибавив матрицу B из предыдущего вопроса к матрице C, умноженной на 10. Вычислите определитель, ранг и обратную матрицу D_inv для D."
   ]
  },
  {
   "cell_type": "code",
   "execution_count": 30,
   "id": "e1125bdf",
   "metadata": {},
   "outputs": [
    {
     "name": "stdout",
     "output_type": "stream",
     "text": [
      "[[ 0  1  2  3]\n",
      " [ 4  5  6  7]\n",
      " [ 8  9 10 11]\n",
      " [12 13 14 15]]\n"
     ]
    }
   ],
   "source": [
    "C = c.reshape((4, 4))\n",
    "print(C)"
   ]
  },
  {
   "cell_type": "code",
   "execution_count": 31,
   "id": "3c263a1b",
   "metadata": {},
   "outputs": [
    {
     "data": {
      "text/plain": [
       "True"
      ]
     },
     "execution_count": 31,
     "metadata": {},
     "output_type": "execute_result"
    }
   ],
   "source": [
    "C.shape == B.shape"
   ]
  },
  {
   "cell_type": "code",
   "execution_count": 32,
   "id": "b9da2618",
   "metadata": {},
   "outputs": [
    {
     "name": "stdout",
     "output_type": "stream",
     "text": [
      "[[  5  24  43  62]\n",
      " [ 54 100 146 192]\n",
      " [103 176 249 322]\n",
      " [152 252 352 452]]\n"
     ]
    }
   ],
   "source": [
    "D = 10 * C + B\n",
    "print(D)"
   ]
  },
  {
   "cell_type": "code",
   "execution_count": 33,
   "id": "e115796c",
   "metadata": {},
   "outputs": [
    {
     "data": {
      "text/plain": [
       "-7.685903354004529e-25"
      ]
     },
     "execution_count": 33,
     "metadata": {},
     "output_type": "execute_result"
    }
   ],
   "source": [
    "np.linalg.det(D)"
   ]
  },
  {
   "cell_type": "code",
   "execution_count": 34,
   "id": "a894ec8e",
   "metadata": {},
   "outputs": [
    {
     "name": "stdout",
     "output_type": "stream",
     "text": [
      "ранг D= 2\n"
     ]
    }
   ],
   "source": [
    "rank_D = np.linalg.matrix_rank(D)\n",
    "print(\"ранг D=\", rank_D)"
   ]
  },
  {
   "cell_type": "code",
   "execution_count": 35,
   "id": "8ef136ad",
   "metadata": {},
   "outputs": [
    {
     "name": "stdout",
     "output_type": "stream",
     "text": [
      "[[ 1.10382344e+13  5.26315789e-02 -3.31147031e+13  2.20764688e+13]\n",
      " [-8.46264636e+13  9.38249922e+13  6.62294063e+13 -7.54279349e+13]\n",
      " [ 1.36138224e+14 -1.87649984e+14 -3.31147031e+13  8.46264636e+13]\n",
      " [-6.25499948e+13  9.38249922e+13  0.00000000e+00 -3.12749974e+13]]\n"
     ]
    }
   ],
   "source": [
    "D_inv = np.linalg.inv(D)\n",
    "print(D_inv)"
   ]
  },
  {
   "cell_type": "markdown",
   "id": "158c1312",
   "metadata": {},
   "source": [
    "Приравняйте к нулю отрицательные числа в матрице D_inv, а положительные - к единице. Убедитесь, что в матрице D_inv остались только нули и единицы. С помощью функции numpy.where, используя матрицу D_inv в качестве маски, а матрицы B и C - в качестве источников данных, получите матрицу E размером 4x4.  Элементы матрицы E, для которых соответствующий элемент матрицы D_inv равен 1, должны быть равны соответствующему элементу матрицы B, а элементы матрицы E, для которых соответствующий элемент матрицы D_inv равен 0, должны быть равны соответствующему элементу матрицы C."
   ]
  },
  {
   "cell_type": "code",
   "execution_count": 36,
   "id": "71708a32",
   "metadata": {},
   "outputs": [
    {
     "name": "stdout",
     "output_type": "stream",
     "text": [
      "[[1. 1. 0. 1.]\n",
      " [0. 1. 1. 0.]\n",
      " [1. 0. 0. 1.]\n",
      " [0. 1. 0. 0.]]\n"
     ]
    }
   ],
   "source": [
    "D_inv[(D_inv > 0)] = 1\n",
    "D_inv[D_inv < 0] = 0\n",
    "print(D_inv)"
   ]
  },
  {
   "cell_type": "code",
   "execution_count": 37,
   "id": "6f5f14c8",
   "metadata": {},
   "outputs": [
    {
     "name": "stdout",
     "output_type": "stream",
     "text": [
      "[[  5  14   2  32]\n",
      " [  4  50  86   7]\n",
      " [ 23   9  10 212]\n",
      " [ 12 122  14  15]]\n"
     ]
    }
   ],
   "source": [
    "E = np.where(D_inv, B, C)\n",
    "print(E)"
   ]
  },
  {
   "cell_type": "code",
   "execution_count": null,
   "id": "e73f8eab",
   "metadata": {},
   "outputs": [],
   "source": []
  }
 ],
 "metadata": {
  "kernelspec": {
   "display_name": "Python 3",
   "language": "python",
   "name": "python3"
  },
  "language_info": {
   "codemirror_mode": {
    "name": "ipython",
    "version": 3
   },
   "file_extension": ".py",
   "mimetype": "text/x-python",
   "name": "python",
   "nbconvert_exporter": "python",
   "pygments_lexer": "ipython3",
   "version": "3.8.8"
  }
 },
 "nbformat": 4,
 "nbformat_minor": 5
}
